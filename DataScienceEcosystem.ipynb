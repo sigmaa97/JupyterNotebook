{
 "cells": [
  {
   "cell_type": "markdown",
   "id": "47a0b01e",
   "metadata": {},
   "source": [
    "# Data Science Tools and Ecosystem"
   ]
  },
  {
   "cell_type": "markdown",
   "id": "b08e8485",
   "metadata": {},
   "source": [
    "In this notebook, Data Science Tools and Ecosystem are summarized."
   ]
  },
  {
   "cell_type": "markdown",
   "id": "56613dad",
   "metadata": {},
   "source": [
    "**Objectives:**\n",
    "\n",
    "- List popular languages for Data Science.\n",
    "- Identify commonly used libraries in Data Science.\n",
    "- Perform arithmetic operations in Python.\n",
    "- Convert minutes to hours using Python.\n"
   ]
  },
  {
   "cell_type": "markdown",
   "id": "6c2ac544",
   "metadata": {},
   "source": [
    "Some of the popular languages that Data Scientists use are:\n",
    "\n",
    "1. Python\n",
    "2. R\n",
    "3. Julia\n"
   ]
  },
  {
   "cell_type": "markdown",
   "id": "960e6481",
   "metadata": {},
   "source": [
    "Some of the commonly used libraries used by Data Scientists include:\n",
    "\n",
    "1. NumPy: A fundamental library for numerical computations in Python.\n",
    "2. pandas: A data manipulation library for Python that offers data structures like DataFrames and tools for data analysis.\n",
    "3. scikit-learn: A machine learning library for Python that provides simple and efficient tools for data analysis and modeling.\n"
   ]
  },
  {
   "attachments": {},
   "cell_type": "markdown",
   "id": "471c08d2",
   "metadata": {},
   "source": [
    "| Data Science Tools     |\n",
    "|------------------------|\n",
    "| Jupyter Notebook       |\n",
    "| RStudio                |\n",
    "| Visual Studio Code     |"
   ]
  },
  {
   "cell_type": "markdown",
   "id": "54fa0f35",
   "metadata": {},
   "source": [
    "### Below are a few examples of evaluating arithmetic expressions in Python"
   ]
  },
  {
   "cell_type": "code",
   "execution_count": 6,
   "id": "65a81d43",
   "metadata": {},
   "outputs": [
    {
     "data": {
      "text/plain": [
       "17"
      ]
     },
     "execution_count": 6,
     "metadata": {},
     "output_type": "execute_result"
    }
   ],
   "source": [
    "# This a simple arithmetic expression to mutiply then add integers\n",
    "(3*4)+5"
   ]
  },
  {
   "cell_type": "code",
   "execution_count": 5,
   "id": "dceded12",
   "metadata": {},
   "outputs": [
    {
     "data": {
      "text/plain": [
       "3.3333333333333335"
      ]
     },
     "execution_count": 5,
     "metadata": {},
     "output_type": "execute_result"
    }
   ],
   "source": [
    "# This will convert 200 minutes to hours by diving by 60.\n",
    "minutes = 200\n",
    "hours = minutes / 60\n",
    "hours"
   ]
  },
  {
   "cell_type": "markdown",
   "id": "3f6e8b4f",
   "metadata": {},
   "source": [
    "## Author\n",
    "\n",
    "Farid Effendi\n"
   ]
  }
 ],
 "metadata": {
  "kernelspec": {
   "display_name": "Python 3 (ipykernel)",
   "language": "python",
   "name": "python3"
  },
  "language_info": {
   "codemirror_mode": {
    "name": "ipython",
    "version": 3
   },
   "file_extension": ".py",
   "mimetype": "text/x-python",
   "name": "python",
   "nbconvert_exporter": "python",
   "pygments_lexer": "ipython3",
   "version": "3.10.9"
  }
 },
 "nbformat": 4,
 "nbformat_minor": 5
}
